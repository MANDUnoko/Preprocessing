{
  "cells": [
    {
      "cell_type": "markdown",
      "id": "3bab8cac",
      "metadata": {
        "id": "3bab8cac"
      },
      "source": [
        "preprocess.py (전체 흐름)\n",
        "\n",
        "load & reorient & HU\n",
        "\n",
        "resample 3D\n",
        "\n",
        "skull strip & optional center crop\n",
        "\n",
        "window & normalize (loop over experiments)\n",
        "\n",
        "pad_or_crop_safe to shape.volume\n",
        "\n",
        "for each axis, method → generate projection, apply same window/normalize, pad2d to shape.slice\n",
        "\n",
        "torch.save with keys"
      ]
    },
    {
      "cell_type": "code",
      "execution_count": null,
      "id": "a49c0228",
      "metadata": {
        "id": "a49c0228"
      },
      "outputs": [],
      "source": [
        "# 로컬: %cd C:\\Users\\401-09\\Preprocessing"
      ]
    },
    {
      "cell_type": "code",
      "source": [
        "# 필요시 폴더 삭제\n",
        "!rm -r 경로명"
      ],
      "metadata": {
        "id": "-o70VFXoSvdb"
      },
      "id": "-o70VFXoSvdb",
      "execution_count": null,
      "outputs": []
    },
    {
      "cell_type": "code",
      "source": [
        "%cd /content"
      ],
      "metadata": {
        "id": "u-WmdJ45S4V7",
        "outputId": "4b472df9-d9ea-4544-f964-90249943a86d",
        "colab": {
          "base_uri": "https://localhost:8080/"
        }
      },
      "id": "u-WmdJ45S4V7",
      "execution_count": 9,
      "outputs": [
        {
          "output_type": "stream",
          "name": "stdout",
          "text": [
            "/content\n"
          ]
        }
      ]
    },
    {
      "cell_type": "code",
      "source": [
        "# GitHub에서 프로젝트 클론\n",
        "#    → <YOUR_REPO_URL> 부분을 실제 리포지토리 URL로 바꿔주세요.\n",
        "!git clone https://github.com/MANDUnoko/Preprocessing\n",
        "%cd Preprocessing"
      ],
      "metadata": {
        "id": "OPSI6J2bNJCC",
        "outputId": "86b6c3e9-fe00-45f8-82ac-6f638ffd3283",
        "colab": {
          "base_uri": "https://localhost:8080/"
        }
      },
      "id": "OPSI6J2bNJCC",
      "execution_count": 10,
      "outputs": [
        {
          "output_type": "stream",
          "name": "stdout",
          "text": [
            "Cloning into 'Preprocessing'...\n",
            "remote: Enumerating objects: 279, done.\u001b[K\n",
            "remote: Counting objects: 100% (22/22), done.\u001b[K\n",
            "remote: Compressing objects: 100% (17/17), done.\u001b[K\n",
            "remote: Total 279 (delta 5), reused 6 (delta 1), pack-reused 257 (from 2)\u001b[K\n",
            "Receiving objects: 100% (279/279), 572.05 MiB | 10.08 MiB/s, done.\n",
            "Resolving deltas: 100% (74/74), done.\n",
            "/content/Preprocessing\n"
          ]
        }
      ]
    },
    {
      "cell_type": "code",
      "source": [
        "!git fetch origin main"
      ],
      "metadata": {
        "id": "oBa908OJW0Q9",
        "outputId": "59cea826-ce04-4ccf-f211-fcdddb70fdfa",
        "colab": {
          "base_uri": "https://localhost:8080/"
        }
      },
      "id": "oBa908OJW0Q9",
      "execution_count": 31,
      "outputs": [
        {
          "output_type": "stream",
          "name": "stdout",
          "text": [
            "remote: Enumerating objects: 7, done.\u001b[K\n",
            "remote: Counting objects:  14% (1/7)\u001b[K\rremote: Counting objects:  28% (2/7)\u001b[K\rremote: Counting objects:  42% (3/7)\u001b[K\rremote: Counting objects:  57% (4/7)\u001b[K\rremote: Counting objects:  71% (5/7)\u001b[K\rremote: Counting objects:  85% (6/7)\u001b[K\rremote: Counting objects: 100% (7/7)\u001b[K\rremote: Counting objects: 100% (7/7), done.\u001b[K\n",
            "remote: Compressing objects: 100% (1/1)\u001b[K\rremote: Compressing objects: 100% (1/1), done.\u001b[K\n",
            "remote: Total 4 (delta 2), reused 4 (delta 2), pack-reused 0 (from 0)\u001b[K\n",
            "Unpacking objects:  25% (1/4)\rUnpacking objects:  50% (2/4)\rUnpacking objects:  75% (3/4)\rUnpacking objects: 100% (4/4)\rUnpacking objects: 100% (4/4), 335 bytes | 335.00 KiB/s, done.\n",
            "From https://github.com/MANDUnoko/Preprocessing\n",
            " * branch            main       -> FETCH_HEAD\n",
            "   bbec00b..f6ae6f8  main       -> origin/main\n"
          ]
        }
      ]
    },
    {
      "cell_type": "code",
      "source": [
        "!git checkout origin/main -- /content/Preprocessing/scripts/preprocess.py"
      ],
      "metadata": {
        "id": "SzndkywzW4Oj"
      },
      "id": "SzndkywzW4Oj",
      "execution_count": 32,
      "outputs": []
    },
    {
      "cell_type": "code",
      "execution_count": 11,
      "id": "7f9fe979",
      "metadata": {
        "id": "7f9fe979",
        "outputId": "aa4493e0-c961-4205-c8b3-ecc950969d52",
        "colab": {
          "base_uri": "https://localhost:8080/"
        }
      },
      "outputs": [
        {
          "output_type": "stream",
          "name": "stdout",
          "text": [
            "Drive already mounted at /content/drive; to attempt to forcibly remount, call drive.mount(\"/content/drive\", force_remount=True).\n"
          ]
        }
      ],
      "source": [
        "# Google Drive 마운트 (필요한 경우)\n",
        "from google.colab import drive\n",
        "drive.mount('/content/drive')"
      ]
    },
    {
      "cell_type": "code",
      "source": [
        "!sed -n '1,20p' configs/preprocessing.yaml"
      ],
      "metadata": {
        "id": "xufI8N1RNZQj",
        "outputId": "2c61a9d8-78be-4a31-e7cd-0cfbf5553e0a",
        "colab": {
          "base_uri": "https://localhost:8080/"
        }
      },
      "id": "xufI8N1RNZQj",
      "execution_count": 12,
      "outputs": [
        {
          "output_type": "stream",
          "name": "stdout",
          "text": [
            "data_dir: \"data\"\n",
            "\n",
            "spacings:\n",
            "  original: [5.0, 0.4121, 0.4121]\n",
            "  target:   [1.0, 1.0, 1.0]\n",
            "\n",
            "window:\n",
            "  level: 40\n",
            "  width: 80\n",
            "  experiments:\n",
            "    - [0, 80]\n",
            "    - [0, 200]\n",
            "\n",
            "shape:\n",
            "  volume: [140, 250, 250]\n",
            "  slice:  [250, 250]\n",
            "  \n",
            "projections:\n",
            "  axes: [0,1,2]   # Z, Y, X\n",
            "  methods: [mip, aip, mid]\n"
          ]
        }
      ]
    },
    {
      "cell_type": "code",
      "source": [
        "import os\n",
        "os.environ[\"DATA_DIR\"] = \"/content/drive/MyDrive/Daejeon_Medcoding(2024-12~2025-07)/이미지 프로젝트/2차 시도/data\""
      ],
      "metadata": {
        "id": "cEGlJCRCO3DU"
      },
      "id": "cEGlJCRCO3DU",
      "execution_count": 29,
      "outputs": []
    },
    {
      "cell_type": "code",
      "execution_count": 33,
      "id": "ff1b1363",
      "metadata": {
        "id": "ff1b1363",
        "outputId": "93c3b8e8-f1e5-48b0-fe41-852731cb1cab",
        "colab": {
          "base_uri": "https://localhost:8080/"
        }
      },
      "outputs": [
        {
          "output_type": "stream",
          "name": "stdout",
          "text": [
            "\n",
            "=== Processing case 049 ===\n",
            "[✔] Saved: 049\n"
          ]
        }
      ],
      "source": [
        "%run scripts/preprocess.py"
      ]
    },
    {
      "cell_type": "code",
      "execution_count": 35,
      "id": "6e8f6cee",
      "metadata": {
        "id": "6e8f6cee",
        "outputId": "239001d1-176e-4f93-8260-1547dfe1f12d",
        "colab": {
          "base_uri": "https://localhost:8080/"
        }
      },
      "outputs": [
        {
          "output_type": "stream",
          "name": "stdout",
          "text": [
            "\n",
            "[Image Stats]\n",
            "  Mean:  0.0191\n",
            "  Std:   0.1080\n",
            "  Min/Max: 0.00 / 1.00\n",
            "  Shape: (140, 250, 250)\n",
            "  Spacing: (1.0, 1.0, 1.0)\n",
            "\n",
            "[Signal Quality]\n",
            "  SNR: 5.1977\n",
            "  CNR: 0.5656\n"
          ]
        }
      ],
      "source": [
        "# =========================================\n",
        "# 저장된 .pt 파일 불러와 수치 검증\n",
        "# =========================================\n",
        "from pathlib import Path\n",
        "import torch\n",
        "import numpy as np\n",
        "\n",
        "# case_id와 processed 폴더 경로\n",
        "case_id = \"049\"\n",
        "processed_dir = Path(\"/content/drive/MyDrive/Daejeon_Medcoding(2024-12~2025-07)/이미지 프로젝트/2차 시도/data/processed\")     # preprocess.py 에서 OUT_DIR 지정한 곳\n",
        "pt_path = processed_dir / f\"{case_id}.pt\"\n",
        "\n",
        "# 1) .pt 로드\n",
        "data = torch.load(pt_path)\n",
        "\n",
        "# 2) 이미지·마스크 꺼내기 (3D: [1, D, H, W] → [D, H, W])\n",
        "image = data[\"volume\"][0].numpy()    # scripts에서는 \"volume\" key 로 저장했으면 이걸로\n",
        "mask  = data[\"mask\"][0].numpy()\n",
        "\n",
        "# 3) 기본 통계 출력\n",
        "print(\"\\n[Image Stats]\")\n",
        "print(f\"  Mean:  {image.mean():.4f}\")\n",
        "print(f\"  Std:   {image.std():.4f}\")\n",
        "print(f\"  Min/Max: {image.min():.2f} / {image.max():.2f}\")\n",
        "print(f\"  Shape: {image.shape}\")\n",
        "print(f\"  Spacing: {data['meta']['spacing']}\")\n",
        "\n",
        "# 4) SNR / CNR 계산 (병변 픽셀 vs 배경 픽셀)\n",
        "lesion     = image[mask == 1]\n",
        "background = image[(mask == 0) & (image > 0)]  # skull strip 후 배경(0) 제외\n",
        "\n",
        "if lesion.size > 0 and background.size > 0:\n",
        "    snr = lesion.mean() / (lesion.std() + 1e-5)\n",
        "    cnr = abs(lesion.mean() - background.mean()) / (background.std() + 1e-5)\n",
        "    print(\"\\n[Signal Quality]\")\n",
        "    print(f\"  SNR: {snr:.4f}\")\n",
        "    print(f\"  CNR: {cnr:.4f}\")\n",
        "else:\n",
        "    print(\"\\n[Signal Quality] 병변 또는 배경 데이터가 충분치 않음\")"
      ]
    }
  ],
  "metadata": {
    "kernelspec": {
      "display_name": "base",
      "language": "python",
      "name": "python3"
    },
    "language_info": {
      "codemirror_mode": {
        "name": "ipython",
        "version": 3
      },
      "file_extension": ".py",
      "mimetype": "text/x-python",
      "name": "python",
      "nbconvert_exporter": "python",
      "pygments_lexer": "ipython3",
      "version": "3.12.9"
    },
    "colab": {
      "provenance": []
    }
  },
  "nbformat": 4,
  "nbformat_minor": 5
}