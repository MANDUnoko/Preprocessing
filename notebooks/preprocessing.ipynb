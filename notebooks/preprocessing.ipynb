{
  "cells": [
    {
      "cell_type": "markdown",
      "id": "3bab8cac",
      "metadata": {
        "id": "3bab8cac"
      },
      "source": [
        "preprocess.py (전체 흐름)\n",
        "\n",
        "load & reorient & HU\n",
        "\n",
        "resample 3D\n",
        "\n",
        "skull strip & optional center crop\n",
        "\n",
        "window & normalize (loop over experiments)\n",
        "\n",
        "pad_or_crop_safe to shape.volume\n",
        "\n",
        "for each axis, method → generate projection, apply same window/normalize, pad2d to shape.slice\n",
        "\n",
        "torch.save with keys"
      ]
    },
    {
      "cell_type": "code",
      "execution_count": null,
      "id": "a49c0228",
      "metadata": {
        "id": "a49c0228"
      },
      "outputs": [],
      "source": [
        "# 로컬: %cd C:\\Users\\401-09\\Preprocessing"
      ]
    },
    {
      "cell_type": "code",
      "source": [
        "# GitHub에서 프로젝트 클론\n",
        "#    → <YOUR_REPO_URL> 부분을 실제 리포지토리 URL로 바꿔주세요.\n",
        "!git clone https://github.com/MANDUnoko/Preprocessing\n",
        "%cd Preprocessing"
      ],
      "metadata": {
        "id": "OPSI6J2bNJCC",
        "outputId": "5258e7e6-5734-4ea1-f33e-81218ffa213d",
        "colab": {
          "base_uri": "https://localhost:8080/"
        }
      },
      "id": "OPSI6J2bNJCC",
      "execution_count": 1,
      "outputs": [
        {
          "output_type": "stream",
          "name": "stdout",
          "text": [
            "Cloning into 'Preprocessing'...\n",
            "remote: Enumerating objects: 268, done.\u001b[K\n",
            "remote: Counting objects: 100% (11/11), done.\u001b[K\n",
            "remote: Compressing objects: 100% (10/10), done.\u001b[K\n",
            "remote: Total 268 (delta 3), reused 0 (delta 0), pack-reused 257 (from 2)\u001b[K\n",
            "Receiving objects: 100% (268/268), 572.04 MiB | 22.54 MiB/s, done.\n",
            "Resolving deltas: 100% (72/72), done.\n",
            "/content/Preprocessing\n"
          ]
        }
      ]
    },
    {
      "cell_type": "code",
      "execution_count": 2,
      "id": "7f9fe979",
      "metadata": {
        "id": "7f9fe979",
        "outputId": "082468fe-4e62-4fdd-cf67-023c4277385f",
        "colab": {
          "base_uri": "https://localhost:8080/"
        }
      },
      "outputs": [
        {
          "output_type": "stream",
          "name": "stdout",
          "text": [
            "Mounted at /content/drive\n"
          ]
        }
      ],
      "source": [
        "# Google Drive 마운트 (필요한 경우)\n",
        "from google.colab import drive\n",
        "drive.mount('/content/drive')"
      ]
    },
    {
      "cell_type": "code",
      "source": [
        "!sed -n '1,20p' configs/preprocessing.yaml"
      ],
      "metadata": {
        "id": "xufI8N1RNZQj"
      },
      "id": "xufI8N1RNZQj",
      "execution_count": null,
      "outputs": []
    },
    {
      "cell_type": "code",
      "source": [
        "import os\n",
        "os.environ[\"DATA_DIR\"] = \"/content/drive/MyDrive/Daejeon_Medcoding(2024-12~2025-07)/이미지 프로젝트/2차 시도/data\"\n",
        "!python scripts/preprocess.py"
      ],
      "metadata": {
        "id": "cEGlJCRCO3DU"
      },
      "id": "cEGlJCRCO3DU",
      "execution_count": null,
      "outputs": []
    },
    {
      "cell_type": "code",
      "execution_count": null,
      "id": "ff1b1363",
      "metadata": {
        "id": "ff1b1363",
        "outputId": "4faf4084-4f9a-4b3b-b776-9425fee3aa3c"
      },
      "outputs": [
        {
          "ename": "",
          "evalue": "",
          "output_type": "error",
          "traceback": [
            "\u001b[1;31mThe Kernel crashed while executing code in the current cell or a previous cell. \n",
            "\u001b[1;31mPlease review the code in the cell(s) to identify a possible cause of the failure. \n",
            "\u001b[1;31mClick <a href='https://aka.ms/vscodeJupyterKernelCrash'>here</a> for more info. \n",
            "\u001b[1;31mView Jupyter <a href='command:jupyter.viewOutput'>log</a> for further details."
          ]
        }
      ],
      "source": [
        "%run scripts/preprocess.py"
      ]
    },
    {
      "cell_type": "code",
      "execution_count": null,
      "id": "6e8f6cee",
      "metadata": {
        "id": "6e8f6cee"
      },
      "outputs": [],
      "source": [
        "# =========================================\n",
        "# 저장된 .pt 파일 불러와 수치 검증\n",
        "# =========================================\n",
        "\n",
        "from pathlib import Path\n",
        "import torch\n",
        "import numpy as np\n",
        "\n",
        "# case_id와 processed 폴더 경로\n",
        "case_id = \"049\"\n",
        "processed_dir = Path(\"data/processed\")     # preprocess.py 에서 OUT_DIR 지정한 곳\n",
        "pt_path = processed_dir / f\"{case_id}.pt\"\n",
        "\n",
        "# 1) .pt 로드\n",
        "data = torch.load(pt_path)\n",
        "\n",
        "# 2) 이미지·마스크 꺼내기 (3D: [1, D, H, W] → [D, H, W])\n",
        "image = data[\"volume\"][0].numpy()    # scripts에서는 \"volume\" key 로 저장했으면 이걸로\n",
        "mask  = data[\"mask\"][0].numpy()\n",
        "\n",
        "# 3) 기본 통계 출력\n",
        "print(\"\\n[Image Stats]\")\n",
        "print(f\"  Mean:  {image.mean():.4f}\")\n",
        "print(f\"  Std:   {image.std():.4f}\")\n",
        "print(f\"  Min/Max: {image.min():.2f} / {image.max():.2f}\")\n",
        "print(f\"  Shape: {image.shape}\")\n",
        "print(f\"  Spacing: {data['meta']['spacing']}\")\n",
        "\n",
        "# 4) SNR / CNR 계산 (병변 픽셀 vs 배경 픽셀)\n",
        "lesion     = image[mask == 1]\n",
        "background = image[(mask == 0) & (image > 0)]  # skull strip 후 배경(0) 제외\n",
        "\n",
        "if lesion.size > 0 and background.size > 0:\n",
        "    snr = lesion.mean() / (lesion.std() + 1e-5)\n",
        "    cnr = abs(lesion.mean() - background.mean()) / (background.std() + 1e-5)\n",
        "    print(\"\\n[Signal Quality]\")\n",
        "    print(f\"  SNR: {snr:.4f}\")\n",
        "    print(f\"  CNR: {cnr:.4f}\")\n",
        "else:\n",
        "    print(\"\\n[Signal Quality] 병변 또는 배경 데이터가 충분치 않음\")"
      ]
    }
  ],
  "metadata": {
    "kernelspec": {
      "display_name": "base",
      "language": "python",
      "name": "python3"
    },
    "language_info": {
      "codemirror_mode": {
        "name": "ipython",
        "version": 3
      },
      "file_extension": ".py",
      "mimetype": "text/x-python",
      "name": "python",
      "nbconvert_exporter": "python",
      "pygments_lexer": "ipython3",
      "version": "3.12.9"
    },
    "colab": {
      "provenance": []
    }
  },
  "nbformat": 4,
  "nbformat_minor": 5
}